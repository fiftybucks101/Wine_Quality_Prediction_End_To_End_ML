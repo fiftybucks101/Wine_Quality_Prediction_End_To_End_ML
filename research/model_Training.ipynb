{
 "cells": [
  {
   "cell_type": "code",
   "execution_count": 76,
   "metadata": {},
   "outputs": [],
   "source": [
    "import os"
   ]
  },
  {
   "cell_type": "code",
   "execution_count": 77,
   "metadata": {},
   "outputs": [
    {
     "data": {
      "text/plain": [
       "'d:\\\\Python_DataScience\\\\Wine_Quality_Prediction\\\\Wine_Quality_Prediction_End_To_End_ML'"
      ]
     },
     "execution_count": 77,
     "metadata": {},
     "output_type": "execute_result"
    }
   ],
   "source": [
    "%pwd"
   ]
  },
  {
   "cell_type": "code",
   "execution_count": 78,
   "metadata": {},
   "outputs": [
    {
     "data": {
      "text/plain": [
       "['.git',\n",
       " '.gitignore',\n",
       " 'app.py',\n",
       " 'artifacts',\n",
       " 'config',\n",
       " 'LICENSE',\n",
       " 'logs',\n",
       " 'main.py',\n",
       " 'params.yaml',\n",
       " 'README.md',\n",
       " 'requirements.txt',\n",
       " 'research',\n",
       " 'schema.yaml',\n",
       " 'setup.py',\n",
       " 'src',\n",
       " 'template.py',\n",
       " 'templates']"
      ]
     },
     "execution_count": 78,
     "metadata": {},
     "output_type": "execute_result"
    }
   ],
   "source": [
    "os.listdir()"
   ]
  },
  {
   "cell_type": "code",
   "execution_count": 96,
   "metadata": {},
   "outputs": [],
   "source": [
    "from dataclasses import dataclass\n",
    "from pathlib import Path\n",
    "from typing import Optional\n",
    "\n",
    "@dataclass(frozen=True)\n",
    "class ModelTrainerConfig:\n",
    "    root_dir: Path\n",
    "    train_data_path: Path\n",
    "    test_data_path: Path\n",
    "    model_name: str\n",
    "    TARGET_COLUMN: str\n",
    "    max_depth: Optional[int]\n",
    "    max_features: str\n",
    "    min_samples_split: int\n",
    "    n_estimators: 50\n",
    "    "
   ]
  },
  {
   "cell_type": "code",
   "execution_count": 97,
   "metadata": {},
   "outputs": [],
   "source": [
    "from wine_pred.constants import *\n",
    "\n",
    "from wine_pred.utils.common import read_yaml, create_directories"
   ]
  },
  {
   "cell_type": "code",
   "execution_count": 92,
   "metadata": {},
   "outputs": [],
   "source": [
    "class ConfigurationManager:\n",
    "    def __init__ (\n",
    "            self,\n",
    "            config_filepath = CONFIG_FILE_PATH,\n",
    "            params_filepath = PARAMS_FILE_PATH,\n",
    "            schema_filepath = SCHEMA_FILE_PATH):\n",
    "        \n",
    "        self.config = read_yaml(config_filepath)\n",
    "        self.params = read_yaml(params_filepath)\n",
    "        self.schema = read_yaml(schema_filepath)\n",
    "\n",
    "        print(\"Config:\", self.config)  # Debugging print\n",
    "        print(\"Params:\", self.params)  # Debugging print\n",
    "        print(\"Schema:\", self.schema)  # Debugging print\n",
    "\n",
    "        create_directories([self.config.artifacts_root])\n",
    "\n",
    "    def get_model_trainer_config(self) -> ModelTrainerConfig:\n",
    "\n",
    "        config = self.config.model_trainer\n",
    "        params = self.params.Random_Forest_Regressor\n",
    "        schema =  self.schema.TARGET_COLUMN\n",
    "\n",
    "        print(\"Model Trainer Config:\", config)  # Debugging print\n",
    "        print(\"Params:\", params)  # Debugging print\n",
    "        print(\"Schema:\", schema)  # Debugging print\n",
    "\n",
    "        create_directories([config.root_dir])\n",
    "\n",
    "        model_trainer_config = ModelTrainerConfig(\n",
    "            root_dir=config.root_dir,\n",
    "            train_data_path=config.train_data_path,\n",
    "            test_data_path=config.test_data_path,\n",
    "            model_name=config.model_name,\n",
    "            TARGET_COLUMN=schema.name,\n",
    "            max_depth=params.max_depth,\n",
    "            max_features=params.max_features,\n",
    "            min_samples_split=params.min_samples_split,\n",
    "            n_estimators=params.n_estimators)\n",
    "        \n",
    "        return model_trainer_config\n",
    "    \n"
   ]
  },
  {
   "cell_type": "code",
   "execution_count": 98,
   "metadata": {},
   "outputs": [],
   "source": [
    "from wine_pred.logging.logger import logger\n",
    "import pandas as pd\n",
    "from sklearn.compose import ColumnTransformer\n",
    "from sklearn.pipeline import Pipeline\n",
    "from sklearn.preprocessing import QuantileTransformer\n",
    "from sklearn.ensemble import RandomForestRegressor\n",
    "import joblib"
   ]
  },
  {
   "cell_type": "code",
   "execution_count": 101,
   "metadata": {},
   "outputs": [],
   "source": [
    "class ModelTrainer:\n",
    "    def __init__(self, config: ModelTrainerConfig):\n",
    "        self.config = config\n",
    "        self.log_columns = ['fixed acidity', 'volatile acidity','residual sugar', 'citric acid', 'chlorides', 'sulphates', 'free sulfur dioxide', 'total sulfur dioxide', 'alcohol']\n",
    "        logger.info('Constructor Initialized')\n",
    "\n",
    "    def Train(self):\n",
    "        train_data = pd.read_csv(self.config.train_data_path)\n",
    "        logger.info('Train Dataset Read Done')\n",
    "        preprocessor = ColumnTransformer(\n",
    "            transformers=[\n",
    "                ('quantile', QuantileTransformer(output_distribution='normal'), self.log_columns),\n",
    "            ],\n",
    "            remainder='passthrough' )\n",
    "        \n",
    "        \n",
    "        X_train = train_data.drop([self.config.TARGET_COLUMN], axis=1)\n",
    "        y_train = train_data[[self.config.TARGET_COLUMN]]\n",
    "\n",
    "        pipeline = Pipeline(\n",
    "        steps=[\n",
    "            ('Preprocessor', preprocessor),\n",
    "            ('Random Forest Reg', RandomForestRegressor(random_state=42,\n",
    "                                                        max_depth=self.config.max_depth,\n",
    "                                                        max_features=self.config.max_features,\n",
    "                                                        min_samples_split=self.config.min_samples_split,\n",
    "                                                        n_estimators=self.config.n_estimators))\n",
    "        ] )\n",
    "\n",
    "        pipeline.fit(X_train,y_train)\n",
    "        logger.info('Object Training Done')\n",
    "\n",
    "        model_path = os.path.join(self.config.root_dir,self.config.model_name)\n",
    "        joblib.dump(pipeline, model_path)\n",
    "\n",
    "        logger.info(f'Model Object saved at {model_path}')\n",
    "        "
   ]
  },
  {
   "cell_type": "code",
   "execution_count": 102,
   "metadata": {},
   "outputs": [
    {
     "name": "stdout",
     "output_type": "stream",
     "text": [
      "[ 2024-07-07 22:39:59,025 ] 29 root - INFO - yaml file: config\\config.yaml loaded succesfully\n",
      "[ 2024-07-07 22:39:59,031 ] 29 root - INFO - yaml file: params.yaml loaded succesfully\n",
      "[ 2024-07-07 22:39:59,033 ] 29 root - INFO - yaml file: schema.yaml loaded succesfully\n",
      "Config: {'artifacts_root': 'artifacts', 'data_ingestion': {'root_dir': 'artifacts/data_ingestion', 'source_URL': 'https://github.com/fiftybucks101/Datasets/raw/main/wine_quality_dataset.zip', 'local_data_file': 'artifacts/data_ingestion/wine_quality.zip', 'unzip_dir': 'artifacts/data_ingestion'}, 'data_validation': {'root_dir': 'artifacts/data_validation', 'status_file': 'artifacts/data_validation/status.txt', 'unziped_data_dir': 'artifacts/data_ingestion/wine_quality_dataset/WineQT.csv'}, 'data_transformation': {'root_dir': 'artifacts/data_transformation', 'data_path': 'artifacts/data_ingestion/wine_quality_dataset/WineQT.csv'}, 'model_trainer': {'root_dir': 'artifacts/model_training', 'train_data_path': 'artifacts/data_transformation/train.csv', 'test_data_path': 'artifacts/data_transformation/test.csv', 'model_name': 'model.joblib'}}\n",
      "Params: {'Random_Forest_Regressor': {'max_depth': None, 'max_features': 'sqrt', 'min_samples_split': 4, 'n_estimators': 50}}\n",
      "Schema: {'COLUMNS': {'fixed acidity': 'float64', 'volatile acidity': 'float64', 'citric acid': 'float64', 'residual sugar': 'float64', 'chlorides': 'float64', 'free sulfur dioxide': 'float64', 'total sulfur dioxide': 'float64', 'density': 'float64', 'pH': 'float64', 'sulphates': 'float64', 'alcohol': 'float64', 'quality': 'int64'}, 'TARGET_COLUMN': {'name': 'quality'}}\n",
      "[ 2024-07-07 22:39:59,034 ] 43 root - INFO - Created directory at: artifacts\n",
      "Model Trainer Config: {'root_dir': 'artifacts/model_training', 'train_data_path': 'artifacts/data_transformation/train.csv', 'test_data_path': 'artifacts/data_transformation/test.csv', 'model_name': 'model.joblib'}\n",
      "Params: {'max_depth': None, 'max_features': 'sqrt', 'min_samples_split': 4, 'n_estimators': 50}\n",
      "Schema: {'name': 'quality'}\n",
      "[ 2024-07-07 22:39:59,035 ] 43 root - INFO - Created directory at: artifacts/model_training\n",
      "[ 2024-07-07 22:39:59,035 ] 5 root - INFO - Constructor Initialized\n",
      "[ 2024-07-07 22:39:59,039 ] 9 root - INFO - Train Dataset Read Done\n",
      "[ 2024-07-07 22:39:59,191 ] 31 root - INFO - Object Training Done\n",
      "[ 2024-07-07 22:39:59,210 ] 36 root - INFO - Model Object saved at artifacts/model_training\\model.joblib\n"
     ]
    },
    {
     "name": "stderr",
     "output_type": "stream",
     "text": [
      "c:\\Users\\fifty\\anaconda3\\envs\\mlproj_venv\\lib\\site-packages\\sklearn\\preprocessing\\_data.py:2663: UserWarning: n_quantiles (1000) is greater than the total number of samples (857). n_quantiles is set to n_samples.\n",
      "  warnings.warn(\n",
      "c:\\Users\\fifty\\anaconda3\\envs\\mlproj_venv\\lib\\site-packages\\sklearn\\base.py:1152: DataConversionWarning: A column-vector y was passed when a 1d array was expected. Please change the shape of y to (n_samples,), for example using ravel().\n",
      "  return fit_method(estimator, *args, **kwargs)\n"
     ]
    }
   ],
   "source": [
    "try:\n",
    "    config = ConfigurationManager()\n",
    "    model_trainer_config = config.get_model_trainer_config()\n",
    "    model_trainer = ModelTrainer(model_trainer_config)\n",
    "    model_trainer.Train()\n",
    "except Exception as e:\n",
    "    logger.info('Problem During Model Training')\n",
    "    raise e"
   ]
  },
  {
   "cell_type": "code",
   "execution_count": null,
   "metadata": {},
   "outputs": [],
   "source": []
  }
 ],
 "metadata": {
  "kernelspec": {
   "display_name": "mlproj_venv",
   "language": "python",
   "name": "python3"
  },
  "language_info": {
   "codemirror_mode": {
    "name": "ipython",
    "version": 3
   },
   "file_extension": ".py",
   "mimetype": "text/x-python",
   "name": "python",
   "nbconvert_exporter": "python",
   "pygments_lexer": "ipython3",
   "version": "3.8.19"
  }
 },
 "nbformat": 4,
 "nbformat_minor": 2
}
