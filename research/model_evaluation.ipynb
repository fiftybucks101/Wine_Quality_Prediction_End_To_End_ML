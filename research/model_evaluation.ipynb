{
 "cells": [
  {
   "cell_type": "code",
   "execution_count": 233,
   "metadata": {},
   "outputs": [],
   "source": [
    "import os"
   ]
  },
  {
   "cell_type": "code",
   "execution_count": 234,
   "metadata": {},
   "outputs": [
    {
     "data": {
      "text/plain": [
       "'d:\\\\Python_DataScience\\\\Wine_Quality_Prediction\\\\Wine_Quality_Prediction_End_To_End_ML'"
      ]
     },
     "execution_count": 234,
     "metadata": {},
     "output_type": "execute_result"
    }
   ],
   "source": [
    "%pwd"
   ]
  },
  {
   "cell_type": "code",
   "execution_count": 235,
   "metadata": {},
   "outputs": [
    {
     "data": {
      "text/plain": [
       "'d:\\\\Python_DataScience\\\\Wine_Quality_Prediction\\\\Wine_Quality_Prediction_End_To_End_ML'"
      ]
     },
     "execution_count": 235,
     "metadata": {},
     "output_type": "execute_result"
    }
   ],
   "source": [
    "%pwd"
   ]
  },
  {
   "cell_type": "code",
   "execution_count": 236,
   "metadata": {},
   "outputs": [],
   "source": [
    "from dataclasses import dataclass\n",
    "from pathlib import Path\n",
    "\n",
    "@dataclass\n",
    "class ModelEvaluationConfig:\n",
    "    root_dir: Path\n",
    "    model_path: Path\n",
    "    train_data_path: Path\n",
    "    test_data_path: Path\n",
    "    train_metrics_file: str\n",
    "    test_metrics_file: str\n",
    "    name: str\n",
    "    model_name: str"
   ]
  },
  {
   "cell_type": "code",
   "execution_count": 237,
   "metadata": {},
   "outputs": [],
   "source": [
    "from wine_pred.constants import *\n",
    "\n",
    "from wine_pred.utils.common import read_yaml, create_directories"
   ]
  },
  {
   "cell_type": "code",
   "execution_count": 238,
   "metadata": {},
   "outputs": [],
   "source": [
    "class ConfigurationManager:\n",
    "    def __init__(self,\n",
    "                 config_filepath = CONFIG_FILE_PATH,\n",
    "                 schema_filepath = SCHEMA_FILE_PATH):\n",
    "        self.config = read_yaml(config_filepath)\n",
    "        self.schema = read_yaml(schema_filepath)\n",
    "\n",
    "        create_directories([self.config.artifacts_root])\n",
    "\n",
    "    def get_model_evaluation_config(self) -> ModelEvaluationConfig:\n",
    "        config = self.config.model_evaluation\n",
    "        schema = self.schema.TARGET_COLUMN\n",
    "\n",
    "        create_directories([config.root_dir])\n",
    "\n",
    "        model_evaluation_config = ModelEvaluationConfig(\n",
    "            root_dir = config.root_dir,\n",
    "            model_path = config.model_path,\n",
    "            train_data_path = config.train_data_path,\n",
    "            test_data_path=config.test_data_path,\n",
    "            train_metrics_file=config.train_metrics_file,\n",
    "            test_metrics_file=config.test_metrics_file,\n",
    "            name = schema.name,\n",
    "            model_name=config.model_name\n",
    "        )\n",
    "\n",
    "        return model_evaluation_config"
   ]
  },
  {
   "cell_type": "code",
   "execution_count": 239,
   "metadata": {},
   "outputs": [],
   "source": [
    "from sklearn.metrics import mean_absolute_error, mean_squared_error, r2_score\n",
    "import pandas as pd\n",
    "from wine_pred.constants import *\n",
    "import numpy as  np\n",
    "from wine_pred.logging.logger import logger\n",
    "from wine_pred.utils.common import load_bin, save_json\n",
    "import joblib\n",
    "import json"
   ]
  },
  {
   "cell_type": "code",
   "execution_count": 240,
   "metadata": {},
   "outputs": [],
   "source": [
    "class ModelEvaluation:\n",
    "    def __init__(self, config: ModelEvaluationConfig):\n",
    "        self.config = config\n",
    "\n",
    "    def metrics(self):\n",
    "\n",
    "        train_df = pd.read_csv(self.config.train_data_path)\n",
    "        test_df = pd.read_csv(self.config.test_data_path)\n",
    "        model = joblib.load(self.config.model_path)\n",
    "        target_column = self.config.name\n",
    "\n",
    "        X_train = train_df.drop([target_column], axis=1)\n",
    "        X_test = test_df.drop([target_column],axis=1)\n",
    "        y_train = train_df[target_column]\n",
    "        y_test = test_df[target_column]\n",
    "\n",
    "        y_train_pred = model.predict(X_train)\n",
    "        y_test_pred = model.predict(X_test)\n",
    "\n",
    "        train_json = {\n",
    "            'RMSE': np.sqrt(mean_squared_error(y_train,y_train_pred)),\n",
    "            'MAE': mean_absolute_error(y_train,y_train_pred),\n",
    "            'R2 Score': r2_score(y_train,y_train_pred)\n",
    "        }\n",
    "\n",
    "        test_json = {\n",
    "            'RMSE': np.sqrt(mean_squared_error(y_test,y_test_pred)),\n",
    "            'MAE': mean_absolute_error(y_test,y_test_pred),\n",
    "            'R2 Score': r2_score(y_test,y_test_pred)\n",
    "        }\n",
    "\n",
    "        train_path = 'artifacts/model_evaluation/train_mertics.json'\n",
    "        test_path = 'artifacts/model_evaluation/test_mertics.json'\n",
    "\n",
    "        with open(train_path, 'w') as f:\n",
    "            json.dump(train_json, f)\n",
    "\n",
    "        with open(test_path, 'w') as f:\n",
    "            json.dump(test_json, f)\n",
    "\n",
    "        # save_json(train_path,train_json)\n",
    "        # save_json(test_path,test_json,)\n",
    "\n",
    "        logger.info('Train & Test Metrics Json file saved sucessfully.')\n",
    "       \n",
    "        "
   ]
  },
  {
   "cell_type": "code",
   "execution_count": 241,
   "metadata": {},
   "outputs": [
    {
     "name": "stdout",
     "output_type": "stream",
     "text": [
      "[ 2024-07-08 16:39:56,890 ] 29 root - INFO - yaml file: config\\config.yaml loaded succesfully\n",
      "[ 2024-07-08 16:39:56,891 ] 29 root - INFO - yaml file: schema.yaml loaded succesfully\n",
      "[ 2024-07-08 16:39:56,891 ] 43 root - INFO - Created directory at: artifacts\n",
      "[ 2024-07-08 16:39:56,891 ] 43 root - INFO - Created directory at: artifacts/model_evaluation\n",
      "[ 2024-07-08 16:39:56,925 ] 44 root - INFO - Train & Test Metrics Json file saved sucessfully.\n"
     ]
    }
   ],
   "source": [
    "try:\n",
    "    config = ConfigurationManager()\n",
    "    model_evaluation_config = config.get_model_evaluation_config()\n",
    "    model_evaluation = ModelEvaluation(model_evaluation_config)\n",
    "    model_evaluation.metrics()\n",
    "    \n",
    "except Exception as e:\n",
    "    logger.error(f\"An error occurred: {e}\")\n",
    "    raise e"
   ]
  },
  {
   "cell_type": "code",
   "execution_count": null,
   "metadata": {},
   "outputs": [],
   "source": []
  }
 ],
 "metadata": {
  "kernelspec": {
   "display_name": "mlproj_venv",
   "language": "python",
   "name": "python3"
  },
  "language_info": {
   "codemirror_mode": {
    "name": "ipython",
    "version": 3
   },
   "file_extension": ".py",
   "mimetype": "text/x-python",
   "name": "python",
   "nbconvert_exporter": "python",
   "pygments_lexer": "ipython3",
   "version": "3.8.19"
  }
 },
 "nbformat": 4,
 "nbformat_minor": 2
}
